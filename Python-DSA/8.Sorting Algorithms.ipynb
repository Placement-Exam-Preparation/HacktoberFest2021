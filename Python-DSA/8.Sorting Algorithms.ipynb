{
 "cells": [
  {
   "cell_type": "markdown",
   "id": "8aeddc5e",
   "metadata": {},
   "source": [
    "## All Necessary Algo's"
   ]
  },
  {
   "cell_type": "markdown",
   "id": "4170f692",
   "metadata": {},
   "source": [
    "Bubble Sort"
   ]
  },
  {
   "cell_type": "code",
   "execution_count": 4,
   "id": "26fef52f",
   "metadata": {},
   "outputs": [
    {
     "name": "stdout",
     "output_type": "stream",
     "text": [
      "[1, 2, 3, 4, 5, 6, 7, 8, 9]\n"
     ]
    }
   ],
   "source": [
    "# code\n",
    "def bubbleSort(customList):\n",
    "    for i in range(len(customList)-1):\n",
    "        for j in range(len(customList)-i-1):\n",
    "            if customList[j] > customList[j+1]:\n",
    "                customList[j], customList[j+1] = customList[j+1], customList[j]\n",
    "    print(customList)\n",
    "\n",
    "    \n",
    "    \n",
    "clist = [3,1,4,6,2,9,7,8,5] \n",
    "bubbleSort(clist)"
   ]
  },
  {
   "cell_type": "markdown",
   "id": "2089c36d",
   "metadata": {},
   "source": [
    "Selection Sort"
   ]
  },
  {
   "cell_type": "code",
   "execution_count": 3,
   "id": "bda116cc",
   "metadata": {},
   "outputs": [
    {
     "name": "stdout",
     "output_type": "stream",
     "text": [
      "[1, 2, 3, 4, 5, 6, 7, 8, 9]\n"
     ]
    }
   ],
   "source": [
    "# code\n",
    "def selectionSort(customList):\n",
    "    for i in range(len(customList)-1):\n",
    "        min_index = i\n",
    "        for j in range(i+1,len(customList)):\n",
    "            if customList[min_index] > customList[j]:\n",
    "                min_index = j\n",
    "        customList[i], customList[min_index] = customList[min_index], customList[i]\n",
    "    print(customList)\n",
    "\n",
    "clist = [3,1,4,6,2,9,7,8,5] \n",
    "selectionSort(clist)"
   ]
  },
  {
   "cell_type": "markdown",
   "id": "473ab7d3",
   "metadata": {},
   "source": [
    "Insertion Sort"
   ]
  },
  {
   "cell_type": "code",
   "execution_count": 2,
   "id": "2baff1f5",
   "metadata": {},
   "outputs": [
    {
     "name": "stdout",
     "output_type": "stream",
     "text": [
      "[1, 3, 4, 5, 9]\n"
     ]
    }
   ],
   "source": [
    "#code\n",
    "def insertionSort(customList):\n",
    "    for i in range(1, len(customList)):\n",
    "        key = customList[i]\n",
    "        j = i-1\n",
    "        while j>=0 and key < customList[j]:\n",
    "            customList[j+1] = customList[j]\n",
    "            j -= 1\n",
    "        customList[j+1] = key\n",
    "    print(customList)\n",
    "\n",
    "clist = [9,5,1,4,3]\n",
    "insertionSort(clist)"
   ]
  },
  {
   "cell_type": "markdown",
   "id": "1e3d30d2",
   "metadata": {},
   "source": [
    "Bucket Sort"
   ]
  },
  {
   "cell_type": "code",
   "execution_count": 5,
   "id": "4cbe25b9",
   "metadata": {},
   "outputs": [
    {
     "name": "stdout",
     "output_type": "stream",
     "text": [
      "[1, 2, 3, 5, 5, 0, 7, 9]\n"
     ]
    }
   ],
   "source": [
    "# code\n",
    "import math\n",
    "def bucketSort(customList):\n",
    "    numberofBuckets = round(math.sqrt(len(customList)))\n",
    "    maxValue = max(customList)\n",
    "    arr = []\n",
    "\n",
    "    for i in range(numberofBuckets):\n",
    "        arr.append([])\n",
    "    for j in customList:\n",
    "        index_b = math.ceil(j*numberofBuckets/maxValue)\n",
    "        arr[index_b-1].append(j)\n",
    "    \n",
    "    for i in range(numberofBuckets):\n",
    "        arr[i] = sorted(arr[i])\n",
    "    \n",
    "    k = 0\n",
    "    for i in range(numberofBuckets):\n",
    "        for j in range(len(arr[i])):\n",
    "            customList[k] = arr[i][j]\n",
    "            k += 1\n",
    "    return customList\n",
    "\n",
    "cList = [3,5,7,2,5,9,0,1]\n",
    "print(bucketSort(cList))"
   ]
  },
  {
   "cell_type": "markdown",
   "id": "dc59d468",
   "metadata": {},
   "source": [
    "Merge Sort"
   ]
  },
  {
   "cell_type": "code",
   "execution_count": 1,
   "id": "863e43c7",
   "metadata": {},
   "outputs": [
    {
     "name": "stdout",
     "output_type": "stream",
     "text": [
      "[0, 2, 2, 4, 4, 6, 8, 9]\n"
     ]
    }
   ],
   "source": [
    "# code\n",
    "def mergeSort(customList):\n",
    "    if len(customList) > 1:\n",
    "        m = len(customList)//2\n",
    "        L = customList[:m]\n",
    "        R = customList[m:]\n",
    "\n",
    "        # sorting customList in two halves\n",
    "        mergeSort(L)\n",
    "        mergeSort(R)\n",
    "\n",
    "        i = j = k = 0\n",
    "\n",
    "        # Until we reach either end of either L or M, pick larger among\n",
    "        # elements L and M and place them in the correct position at A[p..r]\n",
    "        while i < len(L) and j < len(R):\n",
    "            if L[i] < R[j]:\n",
    "                customList[k] = L[i]\n",
    "                i += 1\n",
    "            else:\n",
    "                customList[k] = R[j]\n",
    "                j += 1\n",
    "            k +=1 \n",
    "        \n",
    "        # When we run out of elements in either L or M,\n",
    "        # pick up the remaining elements and put in A[p..r]\n",
    "        while i < len(L):\n",
    "            customList[k] = L[i]\n",
    "            i += 1\n",
    "            k += 1\n",
    "        while j < len(R):\n",
    "            customList[k] = R[j]\n",
    "            j += 1\n",
    "            k += 1\n",
    "    return customList\n",
    "\n",
    "\n",
    "cList = [2,4,6,8,2,4,9,0]\n",
    "print(mergeSort(cList))"
   ]
  },
  {
   "cell_type": "markdown",
   "id": "df27d76e",
   "metadata": {},
   "source": [
    "Quick Sort"
   ]
  },
  {
   "cell_type": "code",
   "execution_count": 3,
   "id": "636f24b6",
   "metadata": {},
   "outputs": [
    {
     "name": "stdout",
     "output_type": "stream",
     "text": [
      "[0, 1, 2, 3, 4, 5, 7, 9]\n"
     ]
    }
   ],
   "source": [
    "def partition(customList, low, high):\n",
    "    i = low -1\n",
    "    pivot = customList[high]\n",
    "    for j in range(low, high):\n",
    "        if customList[j] <= pivot:\n",
    "            i += 1\n",
    "            customList[i], customList[j] = customList[j], customList[i]\n",
    "    customList[i+1],customList[high] = customList[high], customList[i+1]\n",
    "    return i+1\n",
    "\n",
    "def quickSort(customList, low, high):\n",
    "    if low < high:\n",
    "        pi = partition(customList, low, high)\n",
    "        quickSort(customList, low, pi-1)\n",
    "        quickSort(customList, pi+1, high)\n",
    "\n",
    "cList = [2,5,3,4,1,7,9,0]\n",
    "quickSort(cList, 0, 7)\n",
    "print(cList)"
   ]
  },
  {
   "cell_type": "markdown",
   "id": "b84668ca",
   "metadata": {},
   "source": [
    "Heap Sort"
   ]
  },
  {
   "cell_type": "code",
   "execution_count": 5,
   "id": "cfe1ec45",
   "metadata": {},
   "outputs": [
    {
     "name": "stdout",
     "output_type": "stream",
     "text": [
      "[0, 1, 2, 3, 4, 5, 7, 9]\n"
     ]
    }
   ],
   "source": [
    "# code\n",
    "def heapify(customList, n, i):\n",
    "    smallest = i\n",
    "    l = 2*i+1\n",
    "    r = 2*i+2\n",
    "    if l < n and customList[l] < customList[smallest]:\n",
    "        smallest = l\n",
    "    if r < n and customList[r] < customList[smallest]:\n",
    "        smallest = r\n",
    "    \n",
    "    if smallest != i:\n",
    "        customList[i],customList[smallest] = customList[smallest], customList[i]\n",
    "        heapify(customList, n, smallest)\n",
    "    \n",
    "def heapSort(customList):\n",
    "    n = len(customList)\n",
    "    for i in range(int(n/2)-1,-1,-1):\n",
    "        heapify(customList,n,i)\n",
    "    \n",
    "    for i in range(n-1, 0, -1):\n",
    "        customList[i], customList[0] = customList[0], customList[i]\n",
    "        heapify(customList, i, 0)\n",
    "    customList.reverse()\n",
    "\n",
    "cList = [2,5,3,4,1,7,9,0]\n",
    "heapSort(cList)\n",
    "print(cList)"
   ]
  }
 ],
 "metadata": {
  "kernelspec": {
   "display_name": "Python 3",
   "language": "python",
   "name": "python3"
  },
  "language_info": {
   "codemirror_mode": {
    "name": "ipython",
    "version": 3
   },
   "file_extension": ".py",
   "mimetype": "text/x-python",
   "name": "python",
   "nbconvert_exporter": "python",
   "pygments_lexer": "ipython3",
   "version": "3.9.0"
  }
 },
 "nbformat": 4,
 "nbformat_minor": 5
}
