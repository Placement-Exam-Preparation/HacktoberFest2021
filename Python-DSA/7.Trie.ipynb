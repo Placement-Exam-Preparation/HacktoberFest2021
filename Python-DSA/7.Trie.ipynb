{
 "cells": [
  {
   "cell_type": "markdown",
   "id": "1a719c5c",
   "metadata": {},
   "source": [
    "## Trie"
   ]
  },
  {
   "cell_type": "markdown",
   "id": "87688a59",
   "metadata": {},
   "source": [
    "# FuLL Code of Trie\n"
   ]
  },
  {
   "cell_type": "code",
   "execution_count": 1,
   "id": "a887b55a",
   "metadata": {},
   "outputs": [
    {
     "name": "stdout",
     "output_type": "stream",
     "text": [
      "Successfully Inserted\n",
      "Successfully Inserted\n",
      "False\n"
     ]
    }
   ],
   "source": [
    "# code\n",
    "class TrieNode:\n",
    "    def __init__(self):\n",
    "        self.children = {}\n",
    "        self.endOfString = False    # bcz during creation we have to create blank node\n",
    "\n",
    "class Trie:\n",
    "    def __init__(self):\n",
    "        self.root = TrieNode()\n",
    "    \n",
    "    def insertString(self, word):\n",
    "        current = self.root\n",
    "        for i in word:\n",
    "            ch = i   # here to show 'i' is char\n",
    "            node = current.children.get(ch) # checking if char exist in children of root or not\n",
    "            if node == None:\n",
    "                node = TrieNode()   # initialize new node & setting to Trie node\n",
    "                current.children.update({ch:node})   # updating char of new node in children of TrieNode\n",
    "            current = node \n",
    "        current.endOfString = True\n",
    "        print(\"Successfully Inserted\")\n",
    "\n",
    "    def searchString(self, word):\n",
    "        currentNode = self.root\n",
    "        for i in word:\n",
    "            node = currentNode.children.get(i)\n",
    "            if node == None:\n",
    "                return False\n",
    "            currentNode = node\n",
    "        \n",
    "        if currentNode.endOfString == True:\n",
    "            return True\n",
    "        else:\n",
    "            return False\n",
    "    \n",
    "def deleteString(root, word, index):\n",
    "    ch = word[index] # need to find first char\n",
    "    currentNode = root.children.get(ch)\n",
    "    canThisNodeBeDeleted = False\n",
    "\n",
    "    # ist case\n",
    "    if len(currentNode.children) > 1:\n",
    "        deleteString(currentNode, word, index+1) # calling recursively for next index\n",
    "        return False # not deleting\n",
    "    # 2nd case\n",
    "    if index == len(word) - 1:\n",
    "        if len(currentNode.children) >= 1:\n",
    "            currentNode.endOfString = False\n",
    "            return False\n",
    "        else:\n",
    "            root.children.pop(ch)\n",
    "            return True\n",
    "    # 3rd case\n",
    "    if currentNode.endOfString == True:\n",
    "        deleteString(currentNode, word, index+1)\n",
    "        return False\n",
    "    # 4th case\n",
    "    canThisNodeBeDeleted = deleteString(currentNode, word, index+1)\n",
    "    if canThisNodeBeDeleted == True:\n",
    "        root.children.pop(ch)\n",
    "        return True\n",
    "    else:\n",
    "        return False\n",
    "\n",
    "\n",
    "newTrie = Trie()\n",
    "newTrie.insertString(\"App\")\n",
    "newTrie.insertString(\"Appl\")\n",
    "deleteString(newTrie.root, \"App\", 0)\n",
    "print(newTrie.searchString(\"App\"))"
   ]
  }
 ],
 "metadata": {
  "kernelspec": {
   "display_name": "Python 3",
   "language": "python",
   "name": "python3"
  },
  "language_info": {
   "codemirror_mode": {
    "name": "ipython",
    "version": 3
   },
   "file_extension": ".py",
   "mimetype": "text/x-python",
   "name": "python",
   "nbconvert_exporter": "python",
   "pygments_lexer": "ipython3",
   "version": "3.9.0"
  }
 },
 "nbformat": 4,
 "nbformat_minor": 5
}
