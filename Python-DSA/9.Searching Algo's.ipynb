{
 "cells": [
  {
   "cell_type": "markdown",
   "id": "123845ec",
   "metadata": {},
   "source": [
    "## Linear Search"
   ]
  },
  {
   "cell_type": "code",
   "execution_count": 3,
   "id": "3b972f59",
   "metadata": {},
   "outputs": [
    {
     "name": "stdout",
     "output_type": "stream",
     "text": [
      "Found\n"
     ]
    }
   ],
   "source": [
    "def linearSearch(array, value):\n",
    "    for i in range(len(array)):\n",
    "        if array[i] == value:\n",
    "            return \"Found\"\n",
    "    else:\n",
    "        return \"Not Found\"\n",
    "        \n",
    "arr = [2,5,3,6,1,8]\n",
    "print(linearSearch(arr,2))"
   ]
  },
  {
   "cell_type": "markdown",
   "id": "7ad57fb3",
   "metadata": {},
   "source": [
    "## Binary Search"
   ]
  },
  {
   "cell_type": "code",
   "execution_count": 6,
   "id": "a423d00a",
   "metadata": {},
   "outputs": [
    {
     "name": "stdout",
     "output_type": "stream",
     "text": [
      "5\n"
     ]
    }
   ],
   "source": [
    "#code\n",
    "import math\n",
    "import math\n",
    "def binarySearch(array, value):\n",
    "    start = 0\n",
    "    end = len(array)-1\n",
    "    mid = math.floor((start+end)/2)\n",
    "    \n",
    "    while array[mid] != value and start <= end:\n",
    "        if value < array[mid]:\n",
    "            end = mid-1\n",
    "        else:\n",
    "            start = mid+1\n",
    "        mid = math.floor((start+end)/2)\n",
    "        # print(start,mid,end)\n",
    "    if array[mid] == value:\n",
    "        return mid\n",
    "    else:\n",
    "        return \"Not found\"\n",
    "arr = [1,2,4,6,8,9]\n",
    "print(binarySearch(arr,9))"
   ]
  },
  {
   "cell_type": "code",
   "execution_count": null,
   "id": "327c01b6",
   "metadata": {},
   "outputs": [],
   "source": []
  }
 ],
 "metadata": {
  "kernelspec": {
   "display_name": "Python 3",
   "language": "python",
   "name": "python3"
  },
  "language_info": {
   "codemirror_mode": {
    "name": "ipython",
    "version": 3
   },
   "file_extension": ".py",
   "mimetype": "text/x-python",
   "name": "python",
   "nbconvert_exporter": "python",
   "pygments_lexer": "ipython3",
   "version": "3.9.0"
  }
 },
 "nbformat": 4,
 "nbformat_minor": 5
}
