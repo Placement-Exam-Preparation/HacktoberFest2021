{
 "cells": [
  {
   "cell_type": "markdown",
   "id": "3a23bf9d",
   "metadata": {},
   "source": [
    "# Queue All Operations Using List, Linkedlist and Modules"
   ]
  },
  {
   "cell_type": "markdown",
   "id": "52c8872a",
   "metadata": {},
   "source": [
    "Using List without Capacity i.e without limit"
   ]
  },
  {
   "cell_type": "code",
   "execution_count": 6,
   "id": "c6f7d78a",
   "metadata": {},
   "outputs": [
    {
     "name": "stdout",
     "output_type": "stream",
     "text": [
      "True\n",
      "None\n"
     ]
    }
   ],
   "source": [
    "# Using List\n",
    "class Queue:\n",
    "   def __init__(self):\n",
    "      self.items = []\n",
    "\n",
    "   def __str__(self):\n",
    "      values = [str(x) for x in self.items]\n",
    "      return '\\n'.join(values)\n",
    "\n",
    "   def isEmpty(self):\n",
    "      if self.items == []:\n",
    "         return True\n",
    "      return False\n",
    "\n",
    "   def enqueue(self, value):\n",
    "      self.items.append(value)\n",
    "   \n",
    "   def dequeue(self):\n",
    "      if self.isEmpty():\n",
    "         return \"Queue is empty!!\"\n",
    "      else:\n",
    "         return self.items.pop(0)\n",
    "   def peek(self):\n",
    "      if self.isEmpty():\n",
    "         return \"Queue is empty!!\"\n",
    "      else:\n",
    "         return self.items[0]\n",
    "\n",
    "   def delete(self):\n",
    "      self.items == None\n",
    "\n",
    "\n",
    "\n",
    "\n",
    "\n",
    "   \n",
    "customQueue = Queue()\n",
    "print(customQueue.isEmpty())\n",
    "customQueue.enqueue(1)\n",
    "customQueue.enqueue(2)\n",
    "customQueue.enqueue(3)\n",
    "customQueue.enqueue(4)\n",
    "# print(customQueue,end=\" \")\n",
    "# print()\n",
    "# print(customQueue.dequeue())\n",
    "# print()\n",
    "# print(customQueue.peek())\n",
    "print(customQueue.delete())"
   ]
  },
  {
   "cell_type": "markdown",
   "id": "0ee63e04",
   "metadata": {},
   "source": [
    "Circular Queue using List"
   ]
  },
  {
   "cell_type": "code",
   "execution_count": null,
   "id": "c6966b63",
   "metadata": {},
   "outputs": [],
   "source": [
    "#Circular Queue using List\n",
    "\n",
    "class Queue:\n",
    "   def __init__(self,max_size):\n",
    "      self.items = max_size*[None]\n",
    "      self.max_size = max_size\n",
    "      self.start = -1\n",
    "      self.top = -1\n",
    "   \n",
    "   def __str__(self):\n",
    "      values = [str(x) for x in self.items]\n",
    "      return '\\n'.join(values)\n",
    "   \n",
    "   def isFull(self):\n",
    "      if self.top + 1 == self.start:\n",
    "         return True\n",
    "      elif self.start == 0 and self.top+1 == self.max_size:\n",
    "         return True\n",
    "      else:\n",
    "         return False\n",
    "   \n",
    "   def isEmpty(self):\n",
    "      if self.top == -1:\n",
    "         return True\n",
    "      else:\n",
    "         return False\n",
    "   \n",
    "   def enqueue(self, value):\n",
    "      if self.isFull():\n",
    "         return \"The queue is full\"\n",
    "      else:\n",
    "         if self.top + 1 == self.max_size:\n",
    "            self.top = 0\n",
    "         else:\n",
    "            self.top += 1\n",
    "            if self.start == -1:\n",
    "               self.start = 0\n",
    "         self.items[self.top] = value\n",
    "         return \"The element is inserted at the end of the queue\"\n",
    "   \n",
    "   def dequeue(self):\n",
    "      if self.isEmpty():\n",
    "         return \"The queue is empty\"\n",
    "      else:\n",
    "         firstElement = self.items[self.start]\n",
    "         start = self.start\n",
    "         if self.start == self.top:\n",
    "            self.start = -1\n",
    "            self.top = -1\n",
    "         elif self.start + 1 == self.max_size:\n",
    "            self.start = 0\n",
    "         else:\n",
    "            self.start += 1\n",
    "         self.items[start] = None\n",
    "         return firstElement\n",
    "\n",
    "   def peek(self):\n",
    "      if self.isEmpty():\n",
    "         return \"The queue is empty\"\n",
    "      else:\n",
    "         return self.items[self.start]\n",
    "   \n",
    "   def delete(self):\n",
    "      self.items = self.max_size*[None]\n",
    "      self.start = -1\n",
    "      self.top = -1\n",
    "\n",
    "\n",
    "\n",
    "customQueue = Queue(3)\n",
    "customQueue.enqueue(1)\n",
    "customQueue.enqueue(2)\n",
    "customQueue.enqueue(3)\n",
    "print(customQueue.dequeue())\n",
    "print(customQueue.peek())\n",
    "customQueue.delete()\n",
    "print(customQueue)\n",
    "\n",
    "\n"
   ]
  },
  {
   "cell_type": "markdown",
   "id": "86da920d",
   "metadata": {},
   "source": [
    "Queue using Linked List- All operations"
   ]
  },
  {
   "cell_type": "code",
   "execution_count": 4,
   "id": "467cae90",
   "metadata": {},
   "outputs": [
    {
     "name": "stdout",
     "output_type": "stream",
     "text": [
      "1 2 3\n",
      "False\n",
      "1\n",
      "2\n",
      "Deletion Successful\n"
     ]
    }
   ],
   "source": [
    "# code\n",
    "class Node:\n",
    "   def __init__(self, value = None):\n",
    "      self.value = value\n",
    "      self.next = None\n",
    "\n",
    "   def __str__(self):\n",
    "      return str(self.value)\n",
    "   \n",
    "class Linkedlist:\n",
    "   def __init__(self):\n",
    "      self.head = None\n",
    "      self.tail = None\n",
    "   \n",
    "   def __iter__(self):\n",
    "      tempNode = self.head\n",
    "      while tempNode:\n",
    "         yield tempNode\n",
    "         tempNode = tempNode.next\n",
    "\n",
    "class Queue:\n",
    "   def __init__(self):\n",
    "      self.linkedlist = Linkedlist()\n",
    "   \n",
    "   def __str__(self):\n",
    "      values = [str(x) for x in self.linkedlist]\n",
    "      return ' '.join(values)\n",
    "   \n",
    "   # Enqueuing\n",
    "   def enqueue(self,value):\n",
    "      newNode = Node(value)\n",
    "      if self.linkedlist.head == None:\n",
    "         self.linkedlist.head = newNode\n",
    "         self.linkedlist.tail = newNode\n",
    "      else:\n",
    "         self.linkedlist.tail.next = newNode\n",
    "         self.linkedlist.tail = newNode\n",
    "   \n",
    "    # Checking Empty or not\n",
    "   def isEmpty(self):\n",
    "      if self.linkedlist.head == None:\n",
    "         return True\n",
    "      return False\n",
    "   \n",
    "    # Dequeuing \n",
    "   def dequeue(self):\n",
    "      if self.isEmpty():\n",
    "         return \"Queue is empty\"\n",
    "      else:\n",
    "         tempNode = self.linkedlist.head\n",
    "         if self.linkedlist.head == self.linkedlist.tail:\n",
    "            self.linkedlist.head = None\n",
    "            self.linkedlist.tail = None\n",
    "         else:\n",
    "            self.linkedlist.head = self.linkedlist.head.next\n",
    "            return tempNode\n",
    "   \n",
    "    # Using Peek method(returns--> First element without deleteing)\n",
    "   def peek(self):\n",
    "      if self.isEmpty():\n",
    "         return \"Queue is empty\"\n",
    "      else:\n",
    "         tempNode = self.linkedlist.head\n",
    "         return tempNode\n",
    "   \n",
    "   # Deleting Entire Queue\n",
    "   def delete(self):\n",
    "      self.linkedlist.head = None\n",
    "      self.linkedlist.tail = None\n",
    "      return \"Deletion Successful\"\n",
    "\n",
    "# Printing Queue using all methods \n",
    "customQueue = Queue()\n",
    "customQueue.enqueue(1)\n",
    "customQueue.enqueue(2)\n",
    "customQueue.enqueue(3)\n",
    "print(customQueue)\n",
    "print(customQueue.isEmpty())\n",
    "print(customQueue.dequeue())\n",
    "print(customQueue.peek())\n",
    "print(customQueue.delete())\n"
   ]
  },
  {
   "cell_type": "markdown",
   "id": "1433c26d",
   "metadata": {},
   "source": [
    "Time and Space Complexities"
   ]
  },
  {
   "cell_type": "code",
   "execution_count": 8,
   "id": "f82fde15",
   "metadata": {},
   "outputs": [],
   "source": [
    "# Time Complexity:\n",
    "# Operations              Complexity\n",
    "# Enque(insertion)           O(1)\n",
    "# Deque(deletion)            O(1)\n",
    "# Front(Get front)           O(1)\n",
    "# Rear(Get Rear)             O(1)              \n",
    "\n",
    "# Auxiliary Space: O(N)"
   ]
  },
  {
   "cell_type": "markdown",
   "id": "46cb4a13",
   "metadata": {},
   "source": [
    "# Using Collection Module"
   ]
  },
  {
   "cell_type": "markdown",
   "id": "85c10141",
   "metadata": {},
   "source": [
    "1. Using Deque module"
   ]
  },
  {
   "cell_type": "code",
   "execution_count": 10,
   "id": "e341b3f8",
   "metadata": {},
   "outputs": [
    {
     "name": "stdout",
     "output_type": "stream",
     "text": [
      "deque([], maxlen=3)\n",
      "deque([2, 3, 4], maxlen=3)\n",
      "2\n",
      "None\n",
      "deque([], maxlen=3)\n"
     ]
    }
   ],
   "source": [
    "#code\n",
    "\n",
    "from collections import deque\n",
    "\n",
    "customQueue = deque(maxlen=3)\n",
    "print(customQueue)\n",
    "\n",
    "customQueue.append(1)\n",
    "customQueue.append(2)\n",
    "customQueue.append(3)\n",
    "customQueue.append(4)\n",
    "print(customQueue)\n",
    "print(customQueue.popleft())\n",
    "print(customQueue.clear())\n",
    "print(customQueue)\n"
   ]
  },
  {
   "cell_type": "markdown",
   "id": "7e100ccb",
   "metadata": {},
   "source": [
    "2. Using Queue module"
   ]
  },
  {
   "cell_type": "code",
   "execution_count": 12,
   "id": "bff12e0d",
   "metadata": {},
   "outputs": [
    {
     "name": "stdout",
     "output_type": "stream",
     "text": [
      "True\n",
      "3\n",
      "1\n"
     ]
    }
   ],
   "source": [
    "import queue as q\n",
    "\n",
    "customQueue = q.Queue(maxsize=3)\n",
    "print(customQueue.empty())\n",
    "customQueue.put(1)\n",
    "customQueue.put(2)\n",
    "customQueue.put(3)\n",
    "print(customQueue.qsize())\n",
    "print(customQueue.get())\n",
    "# print(customQueue.task_done())\n",
    "# print(customQueue.join())"
   ]
  },
  {
   "cell_type": "markdown",
   "id": "4fb3597b",
   "metadata": {},
   "source": [
    "3. Using Multiprocessing Module"
   ]
  },
  {
   "cell_type": "code",
   "execution_count": 13,
   "id": "32278464",
   "metadata": {},
   "outputs": [
    {
     "name": "stdout",
     "output_type": "stream",
     "text": [
      "1\n"
     ]
    }
   ],
   "source": [
    "from multiprocessing import Queue\n",
    "\n",
    "customQueue = Queue(maxsize=3)\n",
    "\n",
    "customQueue.put(1)\n",
    "print(customQueue.get())"
   ]
  }
 ],
 "metadata": {
  "kernelspec": {
   "display_name": "Python 3",
   "language": "python",
   "name": "python3"
  },
  "language_info": {
   "codemirror_mode": {
    "name": "ipython",
    "version": 3
   },
   "file_extension": ".py",
   "mimetype": "text/x-python",
   "name": "python",
   "nbconvert_exporter": "python",
   "pygments_lexer": "ipython3",
   "version": "3.9.0"
  }
 },
 "nbformat": 4,
 "nbformat_minor": 5
}
