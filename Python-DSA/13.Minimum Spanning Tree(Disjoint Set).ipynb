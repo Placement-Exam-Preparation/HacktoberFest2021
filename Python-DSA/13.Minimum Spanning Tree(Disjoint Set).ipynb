{
 "cells": [
  {
   "cell_type": "markdown",
   "id": "17d2d8dd",
   "metadata": {},
   "source": [
    "## Disjoint Set "
   ]
  },
  {
   "cell_type": "code",
   "execution_count": 1,
   "id": "b3b868aa",
   "metadata": {},
   "outputs": [
    {
     "name": "stdout",
     "output_type": "stream",
     "text": [
      "A\n",
      "A\n"
     ]
    }
   ],
   "source": [
    "class DisjointSet:\n",
    "    def __init__(self, vertices):\n",
    "        self.vertices = vertices\n",
    "        self.parent ={}\n",
    "        for v in vertices:\n",
    "            self.parent[v] = v\n",
    "        self.rank = dict.fromkeys(vertices, 0)\n",
    "\n",
    "    def find(self,item):\n",
    "        if self.parent[item] == item:\n",
    "            return item\n",
    "        else:\n",
    "            return self.find(self.parent[item])\n",
    "\n",
    "    def union(self, x, y):\n",
    "        xroot = self.find(x)\n",
    "        yroot = self.find(y)\n",
    "        if self.rank[xroot] < self.rank[yroot]:\n",
    "            self.parent[xroot] = yroot\n",
    "        elif self.rank[xroot] > self.rank[yroot]:\n",
    "            self.parent[yroot] = xroot\n",
    "        else:\n",
    "            self.parent[yroot] = xroot\n",
    "            self.rank[xroot] += 1\n",
    "\n",
    "vertices = ['A','B','C','D','E']\n",
    "\n",
    "ds = DisjointSet(vertices)\n",
    "print(ds.find('A'))\n",
    "ds.union('A', 'B')\n",
    "print(ds.find('B'))\n",
    "\n",
    "# TC --> O(N)\n",
    "# SC -->O(N) "
   ]
  }
 ],
 "metadata": {
  "kernelspec": {
   "display_name": "Python 3",
   "language": "python",
   "name": "python3"
  },
  "language_info": {
   "codemirror_mode": {
    "name": "ipython",
    "version": 3
   },
   "file_extension": ".py",
   "mimetype": "text/x-python",
   "name": "python",
   "nbconvert_exporter": "python",
   "pygments_lexer": "ipython3",
   "version": "3.9.0"
  }
 },
 "nbformat": 4,
 "nbformat_minor": 5
}
