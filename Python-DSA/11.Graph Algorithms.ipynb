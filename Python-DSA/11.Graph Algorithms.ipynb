{
 "cells": [
  {
   "cell_type": "markdown",
   "id": "a9fc1cf5",
   "metadata": {},
   "source": [
    "## Topological Sort Algorithm"
   ]
  },
  {
   "cell_type": "code",
   "execution_count": 2,
   "id": "fbd21b6e",
   "metadata": {},
   "outputs": [
    {
     "name": "stdout",
     "output_type": "stream",
     "text": [
      "['B', 'D', 'A', 'C', 'E', 'F', 'G', 'H']\n"
     ]
    }
   ],
   "source": [
    "from collections import defaultdict\n",
    "\n",
    "class Graph:\n",
    "    def __init__(self, numberOfVertices) -> None:\n",
    "        self.graph = defaultdict(list)\n",
    "        self.numberOfVertices = numberOfVertices\n",
    "    \n",
    "    def addEdge(self, vertex , edge):\n",
    "        self.graph[vertex].append(edge)\n",
    "    \n",
    "    #helper function\n",
    "    def topologicalSortUtil(self, v, visited, stack):\n",
    "        visited.append(v)\n",
    "\n",
    "        for i in self.graph[v]:    # calling though edges\n",
    "            if i not in visited:\n",
    "                self.topologicalSortUtil(i, visited, stack)\n",
    "        stack.insert(0, v)\n",
    "    \n",
    "    def topologicalSort(self):\n",
    "\n",
    "        visited = []\n",
    "        stack = []\n",
    "\n",
    "        for k in list(self.graph):  # calling no. of vertices\n",
    "            if k not in visited:\n",
    "                self.topologicalSortUtil(k, visited, stack)\n",
    "        \n",
    "        print(stack)\n",
    "\n",
    "customGraph = Graph(8)\n",
    "customGraph.addEdge('A','C')\n",
    "customGraph.addEdge('C','E')\n",
    "customGraph.addEdge('E','H')\n",
    "customGraph.addEdge('E','F')\n",
    "customGraph.addEdge('F','G')\n",
    "customGraph.addEdge('B','D')\n",
    "customGraph.addEdge('B','C')\n",
    "customGraph.addEdge('D','F')\n",
    "\n",
    "customGraph.topologicalSort()\n",
    "\n",
    "\n",
    "\n"
   ]
  },
  {
   "cell_type": "markdown",
   "id": "8f069f3c",
   "metadata": {},
   "source": [
    "Time and Space complexity of Topological sort is \n",
    "= O(V+E)"
   ]
  },
  {
   "cell_type": "markdown",
   "id": "f20543b3",
   "metadata": {},
   "source": [
    "## Dijkstra Algorithm"
   ]
  },
  {
   "cell_type": "code",
   "execution_count": 2,
   "id": "3dceed7d",
   "metadata": {},
   "outputs": [
    {
     "name": "stdout",
     "output_type": "stream",
     "text": [
      "({'A': 0}, defaultdict(<class 'list'>, {}))\n"
     ]
    }
   ],
   "source": [
    "from collections import defaultdict\n",
    "\n",
    "class Graph:\n",
    "    def __init__(self):\n",
    "        self.nodes = set()\n",
    "        self.edges = defaultdict(list)\n",
    "        self.distances = {}\n",
    "    \n",
    "    def addNode(self, value):\n",
    "        self.nodes.add(value)\n",
    "    \n",
    "    def addEdge(self, fromNode, toNode, distance):\n",
    "        self.edges[fromNode].append(toNode)\n",
    "        self.distances[(fromNode, toNode)] = distance\n",
    "\n",
    "def dijkstra(graph, initial):\n",
    "    visited = {initial: 0}\n",
    "    path = defaultdict(list)\n",
    "\n",
    "    nodes = set(graph.nodes)\n",
    "\n",
    "    while nodes:\n",
    "        minNode = None\n",
    "        for node in nodes:\n",
    "            if node is visited:\n",
    "                if minNode is None:\n",
    "                    minNode = node\n",
    "                elif visited[node] < visited[minNode]:\n",
    "                    minNode = node\n",
    "        if minNode is None:\n",
    "            break\n",
    "\n",
    "        node.remove(minNode)\n",
    "        currWeight = visited[minNode]\n",
    "\n",
    "        for edge in graph.edges[minNode]:\n",
    "            weight = currWeight + graph.distances[(minNode, edge)]\n",
    "            if edge not in visited or weight < visited[edge]:\n",
    "                visited[edge] = weight\n",
    "                path[edge].append[minNode]\n",
    "    \n",
    "    return visited, path\n",
    "\n",
    "customGraph = Graph()\n",
    "customGraph.addNode('A')\n",
    "customGraph.addNode('B')\n",
    "customGraph.addNode('C')\n",
    "customGraph.addNode('D')\n",
    "customGraph.addNode('E')\n",
    "customGraph.addNode('F')\n",
    "customGraph.addNode('G')\n",
    "\n",
    "customGraph.addEdge('A','B',2)\n",
    "customGraph.addEdge('A','C',5)\n",
    "customGraph.addEdge('B','C',6)\n",
    "customGraph.addEdge('B','D',1)\n",
    "customGraph.addEdge('B','E',3)\n",
    "customGraph.addEdge('C','F',8)\n",
    "customGraph.addEdge('D','E',4)\n",
    "customGraph.addEdge('E','G',9)\n",
    "customGraph.addEdge('F','G',7)\n",
    "\n",
    "print(dijkstra(customGraph, 'A'))"
   ]
  },
  {
   "cell_type": "markdown",
   "id": "8ff4fac5",
   "metadata": {},
   "source": [
    "## Bellman Ford Algorithm"
   ]
  },
  {
   "cell_type": "code",
   "execution_count": 1,
   "id": "aa53ec14",
   "metadata": {},
   "outputs": [
    {
     "name": "stdout",
     "output_type": "stream",
     "text": [
      "Vertex Distance from Source :\n",
      " A :  6\n",
      " B :  3\n",
      " C :  4\n",
      " D :  2\n",
      " E :  0\n"
     ]
    }
   ],
   "source": [
    "class Graph:\n",
    "    def __init__(self, vertices):\n",
    "        self.V = vertices\n",
    "        self.graph = []\n",
    "        self.nodes = []\n",
    "\n",
    "    def addEdge(self, s, d, w):\n",
    "        self.graph.append([s,d,w])\n",
    "\n",
    "    def addNode(self, value):\n",
    "        self.nodes.append(value)\n",
    "    \n",
    "    def print_solution(self, dist):\n",
    "        print(\"Vertex Distance from Source :\")\n",
    "        for key, value in dist.items():\n",
    "            print(' ' + key, ': ',value)\n",
    "\n",
    "    def bellmanFord(self,src):\n",
    "        dist = {i : float('Inf') for i in self.nodes}\n",
    "        dist[src] = 0\n",
    "\n",
    "        for _ in range(self.V-1):\n",
    "            for s, d, w  in self.graph:\n",
    "                if dist[s] != float('Inf') and dist[s] + w < dist[d]:\n",
    "                    dist[d] = dist[s] + w\n",
    "            \n",
    "        for s, d, w in self.graph:\n",
    "            if dist[s] != float('Inf') and dist[s] + w < dist[d]:\n",
    "                print(\"Graph contains negative cycle\")\n",
    "                return\n",
    "        \n",
    "        self.print_solution(dist)\n",
    "\n",
    "\n",
    "g = Graph(5)\n",
    "g.addNode('A')\n",
    "g.addNode('B')\n",
    "g.addNode('C')\n",
    "g.addNode('D')\n",
    "g.addNode('E')\n",
    "\n",
    "g.addEdge('A','C',6)\n",
    "g.addEdge('A','D',6)\n",
    "g.addEdge('B','A',3)\n",
    "g.addEdge('C','D',1)\n",
    "g.addEdge('D','C',2)\n",
    "g.addEdge('D','B',1)\n",
    "g.addEdge('E','B',4)\n",
    "g.addEdge('E','D',2)\n",
    "\n",
    "g.bellmanFord('E')"
   ]
  },
  {
   "cell_type": "markdown",
   "id": "045bc545",
   "metadata": {},
   "source": [
    "## Floyd Warshal Algorithm"
   ]
  },
  {
   "cell_type": "code",
   "execution_count": 3,
   "id": "aa2947fe",
   "metadata": {},
   "outputs": [
    {
     "name": "stdout",
     "output_type": "stream",
     "text": [
      "0 3 4 1  \n",
      "5 0 1 6  \n",
      "4 7 0 5  \n",
      "7 2 3 1  \n"
     ]
    }
   ],
   "source": [
    "INF = 9999    # infinity number\n",
    "def printSolution(nV, distance):    # nV = no. of vertices\n",
    "    for i in range(nV):\n",
    "        for j in range(nV):\n",
    "            if(distance[i][j] == INF):\n",
    "                print(\"INF\", end=\" \")\n",
    "            else:\n",
    "                print(distance[i][j], end=\" \")\n",
    "        print(\" \")\n",
    "\n",
    "def floydWarshal(nV, G):\n",
    "    distance = G\n",
    "    for k in range(nV):\n",
    "        for i in range(nV):\n",
    "            for j in range(nV):\n",
    "                distance[i][j] = min(distance[i][j], distance[i][k] + distance[k][j])\n",
    "    printSolution(nV, distance)\n",
    "\n",
    "G = [\n",
    "    [0, 8, INF, 1],\n",
    "    [INF, 0, 1, INF],\n",
    "    [4, INF, 0, INF],\n",
    "    [INF, 2, 9, 1]\n",
    "]\n",
    "\n",
    "floydWarshal(4, G)\n",
    "\n",
    "# TC - O(V^3)\n",
    "# SC - O(V^2)"
   ]
  },
  {
   "cell_type": "code",
   "execution_count": null,
   "id": "e6c7d4d5",
   "metadata": {},
   "outputs": [],
   "source": []
  },
  {
   "cell_type": "code",
   "execution_count": null,
   "id": "5793209f",
   "metadata": {},
   "outputs": [],
   "source": []
  }
 ],
 "metadata": {
  "kernelspec": {
   "display_name": "Python 3",
   "language": "python",
   "name": "python3"
  },
  "language_info": {
   "codemirror_mode": {
    "name": "ipython",
    "version": 3
   },
   "file_extension": ".py",
   "mimetype": "text/x-python",
   "name": "python",
   "nbconvert_exporter": "python",
   "pygments_lexer": "ipython3",
   "version": "3.9.0"
  }
 },
 "nbformat": 4,
 "nbformat_minor": 5
}
