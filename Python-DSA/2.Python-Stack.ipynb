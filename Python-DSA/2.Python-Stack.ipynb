{
 "cells": [
  {
   "cell_type": "markdown",
   "id": "7b2dbfc9",
   "metadata": {},
   "source": [
    "Stack Using List and LinkedList"
   ]
  },
  {
   "cell_type": "markdown",
   "id": "78de48e4",
   "metadata": {},
   "source": [
    "1. Using List"
   ]
  },
  {
   "cell_type": "code",
   "execution_count": 2,
   "id": "24097fc3",
   "metadata": {
    "collapsed": true
   },
   "outputs": [
    {
     "name": "stdout",
     "output_type": "stream",
     "text": [
      "3\n",
      "2\n",
      "None\n"
     ]
    }
   ],
   "source": [
    "# Stack Using List----Without limit size\n",
    "\n",
    "class Stack:\n",
    "    def __init__(self):\n",
    "        self.list = []\n",
    "    \n",
    "    def __str__(self):\n",
    "        values = self.list.reverse()\n",
    "        values = [str(x) for x in self.list]\n",
    "        return '\\n'.join(values)\n",
    "\n",
    "    # isEmpty\n",
    "    def isEmpty(self):\n",
    "        if self.list == []:\n",
    "            return True\n",
    "        else:\n",
    "            return False\n",
    "    \n",
    "    #push\n",
    "    def push(self, value):\n",
    "        self.list.append(value)\n",
    "        return \"The element is successfully pushed.\"\n",
    "    \n",
    "    #pop\n",
    "    def pop(self):\n",
    "        if self.isEmpty():\n",
    "            return \"Stack is empty\"\n",
    "        else:\n",
    "            return self.list.pop()\n",
    "        \n",
    "    \n",
    "    #peek\n",
    "    def peek(self):\n",
    "        if self.isEmpty():\n",
    "            return \"Stack is empty\"\n",
    "        else:\n",
    "            return self.list[len(self.list)-1]\n",
    "        \n",
    "    #delete\n",
    "    def delete(self):\n",
    "        self.list = None\n",
    "\n",
    "customStack = Stack()\n",
    "\n",
    "# print(customStack.isEmpty())\n",
    "customStack.push(1)\n",
    "customStack.push(2)\n",
    "customStack.push(3)\n",
    "# print(customStack)\n",
    "print(customStack.pop())\n",
    "print(customStack.peek())\n",
    "print(customStack.delete())"
   ]
  },
  {
   "cell_type": "markdown",
   "id": "00dddb02",
   "metadata": {},
   "source": [
    "2. Using List But with limit"
   ]
  },
  {
   "cell_type": "code",
   "execution_count": 5,
   "id": "66bcaa07",
   "metadata": {},
   "outputs": [
    {
     "name": "stdout",
     "output_type": "stream",
     "text": [
      "True\n",
      "False\n",
      "3\n",
      "2\n",
      "Stack is deleted\n"
     ]
    }
   ],
   "source": [
    "# Stack Using List----With limit size\n",
    "\n",
    "class Stack:\n",
    "    def __init__(self, maxsize):\n",
    "        self.maxsize = maxsize\n",
    "        self.list = []\n",
    "    \n",
    "    def __str__(self):\n",
    "        values = self.list.reverse()\n",
    "        values = [str(x) for x in self.list]\n",
    "        return '\\n'.join(values)\n",
    "    \n",
    "    #isEmpty\n",
    "    def isEmpty(self):\n",
    "        if self.list == []:\n",
    "            return True\n",
    "        else:\n",
    "            return False\n",
    "    #isFull\n",
    "    def isFull(self):\n",
    "        if len(self.list) == self.maxsize:\n",
    "            return True\n",
    "        else:\n",
    "            return False\n",
    "    #push\n",
    "    def push(self, value):\n",
    "        if self.isFull():\n",
    "            return \"Stack is full\"\n",
    "        else:\n",
    "            self.list.append(value)\n",
    "            return \"The element are successfully pushed\"\n",
    "    #pop\n",
    "    def pop(self):\n",
    "        if self.isEmpty():\n",
    "            return \"Stack is empty\"\n",
    "        else:\n",
    "            return self.list.pop()\n",
    "    #peek\n",
    "    def peek(self):\n",
    "        if self.isEmpty():\n",
    "            return \"Stack is empty\"\n",
    "        else:\n",
    "            return self.list[len(self.list)-1]\n",
    "    #delete\n",
    "    def delete(self):\n",
    "        self.list = None\n",
    "        return \"Stack is deleted\"\n",
    "\n",
    "\n",
    "    \n",
    "\n",
    "    \n",
    "customStack = Stack(4)\n",
    "\n",
    "print(customStack.isEmpty())\n",
    "print(customStack.isFull())\n",
    "customStack.push(1)\n",
    "customStack.push(2)\n",
    "customStack.push(3)\n",
    "# print(customStack)\n",
    "print(customStack.pop())\n",
    "print(customStack.peek())\n",
    "print(customStack.delete())"
   ]
  },
  {
   "cell_type": "markdown",
   "id": "26abd0f3",
   "metadata": {},
   "source": [
    "3. Using Linked List"
   ]
  },
  {
   "cell_type": "code",
   "execution_count": 6,
   "id": "72699abd",
   "metadata": {},
   "outputs": [
    {
     "name": "stdout",
     "output_type": "stream",
     "text": [
      "True\n",
      "3\n",
      "2\n",
      "1\n",
      "--------\n",
      "3\n",
      "2\n",
      "Stack is deleted\n"
     ]
    }
   ],
   "source": [
    "# Stack Using Linked List\n",
    "\n",
    "class Node:\n",
    "    def __init__(self, value = None):\n",
    "        self.value = value\n",
    "        self.next = None\n",
    "    \n",
    "\n",
    "class LinkedList:\n",
    "    def __init__(self):\n",
    "        self.head = None\n",
    "    \n",
    "    def __iter__(self):\n",
    "        currNode = self.head\n",
    "        while currNode:\n",
    "            yield currNode\n",
    "            currNode = currNode.next\n",
    "\n",
    "class Stack:\n",
    "    def __init__(self):\n",
    "        self.LinkedList = LinkedList()     # creating object of LL class\n",
    "    \n",
    "    def __str__(self):\n",
    "        values = [str(x.value) for x in self.LinkedList]\n",
    "        return '\\n'.join(values)\n",
    "\n",
    "    def isEmpty(self):\n",
    "        if self.LinkedList.head == None:\n",
    "            return True\n",
    "        else:\n",
    "            return False\n",
    "    \n",
    "    def push(self, value):\n",
    "        node = Node(value)\n",
    "        node.next = self.LinkedList.head\n",
    "        self.LinkedList.head = node\n",
    "    \n",
    "    def pop(self):\n",
    "        if self.isEmpty():\n",
    "            return \"Stack is Empty\"\n",
    "        else:\n",
    "            nodeValue = self.LinkedList.head.value\n",
    "            self.LinkedList.head = self.LinkedList.head.next\n",
    "            return nodeValue\n",
    "\n",
    "    def peek(self):\n",
    "        if self.isEmpty():\n",
    "            return \"Stack is Empty\"\n",
    "        else:\n",
    "            nodeValue = self.LinkedList.head.value\n",
    "            return nodeValue\n",
    "    def delete(self):\n",
    "        self.LinkedList.head = None\n",
    "        return \"Stack is deleted\"\n",
    "\n",
    "\n",
    "\n",
    "\n",
    "\n",
    "customStack = Stack()\n",
    "print(customStack.isEmpty())\n",
    "customStack.push(1)\n",
    "customStack.push(2)\n",
    "customStack.push(3)\n",
    "print(customStack)\n",
    "print(\"--------\")\n",
    "print(customStack.pop())\n",
    "print(customStack.peek())\n",
    "print(customStack.delete())\n"
   ]
  }
 ],
 "metadata": {
  "kernelspec": {
   "display_name": "Python 3",
   "language": "python",
   "name": "python3"
  },
  "language_info": {
   "codemirror_mode": {
    "name": "ipython",
    "version": 3
   },
   "file_extension": ".py",
   "mimetype": "text/x-python",
   "name": "python",
   "nbconvert_exporter": "python",
   "pygments_lexer": "ipython3",
   "version": "3.9.0"
  }
 },
 "nbformat": 4,
 "nbformat_minor": 5
}
