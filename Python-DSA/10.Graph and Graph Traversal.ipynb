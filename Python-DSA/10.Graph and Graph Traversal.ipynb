{
 "cells": [
  {
   "cell_type": "markdown",
   "id": "cd7e9240",
   "metadata": {},
   "source": [
    "# Creation of Graph"
   ]
  },
  {
   "cell_type": "code",
   "execution_count": 2,
   "id": "67932fa2",
   "metadata": {},
   "outputs": [
    {
     "name": "stdout",
     "output_type": "stream",
     "text": [
      "['a', 'd', 'c']\n"
     ]
    }
   ],
   "source": [
    "class Graph:\n",
    "    def __init__(self, gdict = None):\n",
    "        if gdict is None:\n",
    "            gdict = {}\n",
    "        self.gdict = gdict\n",
    "    \n",
    "    def addEdge(self,vertex,edge):\n",
    "        self.gdict[vertex].append(edge)\n",
    "\n",
    "customDict = {\n",
    "        \"a\": [\"b\",\"c\"],\n",
    "        \"b\": ['a','d'],\n",
    "        \"c\": ['a','c'],\n",
    "        \"d\": ['b','e','f'],\n",
    "        \"e\": ['d','f'],\n",
    "        \"f\": ['d','e']\n",
    "    }\n",
    "\n",
    "graph = Graph(customDict)\n",
    "graph.addEdge(\"b\",\"c\")\n",
    "print(graph.gdict[\"b\"])"
   ]
  },
  {
   "cell_type": "markdown",
   "id": "ca9e92cd",
   "metadata": {},
   "source": [
    "# Types of Graph :\n",
    "Traversing Techniques"
   ]
  },
  {
   "cell_type": "markdown",
   "id": "605a1edf",
   "metadata": {},
   "source": [
    "# 1. BFS(Breadth First Search)"
   ]
  },
  {
   "cell_type": "code",
   "execution_count": 3,
   "id": "fa9cb27d",
   "metadata": {},
   "outputs": [
    {
     "name": "stdout",
     "output_type": "stream",
     "text": [
      "a\n",
      "b\n",
      "c\n",
      "d\n",
      "e\n",
      "f\n"
     ]
    }
   ],
   "source": [
    "class Graph:\n",
    "    def __init__(self, gdict=None):\n",
    "        if gdict is None:\n",
    "            gdict = {}\n",
    "        self.gdict = gdict\n",
    "\n",
    "    def addEdge(self, vertex, edge):\n",
    "        self.gdict[vertex].append(edge)\n",
    "    \n",
    "    def bfs(self, vertex):\n",
    "        visited = [vertex]\n",
    "        queue = [vertex]\n",
    "        while queue:\n",
    "            deqVertex = queue.pop(0)\n",
    "            print(deqVertex)\n",
    "            for adjacentVertex in self.gdict[deqVertex]:\n",
    "                if adjacentVertex not in visited:\n",
    "                    visited.append(adjacentVertex)\n",
    "                    queue.append(adjacentVertex)\n",
    "\n",
    "customDict = {\n",
    "        \"a\": [\"b\",\"c\"],\n",
    "        \"b\": ['a','d','e'],\n",
    "        \"c\": ['a','c'],\n",
    "        \"d\": ['b','e','f'],\n",
    "        \"e\": ['d','f'],\n",
    "        \"f\": ['d','e']\n",
    "    }\n",
    "\n",
    "graph = Graph(customDict)\n",
    "graph.bfs(\"a\")\n",
    "# print(graph.gdict[\"b\"])"
   ]
  },
  {
   "cell_type": "markdown",
   "id": "cc727435",
   "metadata": {},
   "source": [
    "# 2.DFS(Depth First Search)"
   ]
  },
  {
   "cell_type": "code",
   "execution_count": 4,
   "id": "ab83304f",
   "metadata": {},
   "outputs": [
    {
     "name": "stdout",
     "output_type": "stream",
     "text": [
      "a\n",
      "c\n",
      "e\n",
      "f\n",
      "d\n",
      "b\n"
     ]
    }
   ],
   "source": [
    "class Graph:\n",
    "    def __init__(self, gdict=None):\n",
    "        if gdict is None:\n",
    "            gdict = {}\n",
    "        self.gdict = gdict\n",
    "\n",
    "    def addEdge(self, vertex, edge):\n",
    "        self.gdict[vertex].append(edge)\n",
    "    \n",
    "    def dfs(self, vertex):\n",
    "        visited = [vertex]\n",
    "        stack = [vertex]\n",
    "        while stack:\n",
    "            popVertex = stack.pop()\n",
    "            print(popVertex)\n",
    "            for adjacentVertx in self.gdict[popVertex]:\n",
    "                if adjacentVertx not in visited:\n",
    "                    visited.append(adjacentVertx)\n",
    "                    stack.append(adjacentVertx)\n",
    "\n",
    "\n",
    "\n",
    "customDict = {\n",
    "        \"a\": [\"b\",\"c\"],\n",
    "        \"b\": ['a','d','e'],\n",
    "        \"c\": ['a','e'],\n",
    "        \"d\": ['b','e','f'],\n",
    "        \"e\": ['d','f','c'],\n",
    "        \"f\": ['d','e']\n",
    "    }\n",
    "\n",
    "graph = Graph(customDict)\n",
    "graph.dfs(\"a\")\n",
    "# print(graph.gdict[\"b\"])"
   ]
  }
 ],
 "metadata": {
  "kernelspec": {
   "display_name": "Python 3",
   "language": "python",
   "name": "python3"
  },
  "language_info": {
   "codemirror_mode": {
    "name": "ipython",
    "version": 3
   },
   "file_extension": ".py",
   "mimetype": "text/x-python",
   "name": "python",
   "nbconvert_exporter": "python",
   "pygments_lexer": "ipython3",
   "version": "3.9.0"
  }
 },
 "nbformat": 4,
 "nbformat_minor": 5
}
